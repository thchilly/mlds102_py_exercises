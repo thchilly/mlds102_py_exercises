{
 "cells": [
  {
   "cell_type": "markdown",
   "metadata": {},
   "source": [
    "## NumPy\n",
    "\n",
    "Normalize the all_humidities matrix so that each value lies in [0,1]"
   ]
  },
  {
   "cell_type": "code",
   "execution_count": 4,
   "metadata": {},
   "outputs": [],
   "source": [
    "import numpy as np"
   ]
  },
  {
   "cell_type": "code",
   "execution_count": 5,
   "metadata": {},
   "outputs": [
    {
     "name": "stdout",
     "output_type": "stream",
     "text": [
      "Original min/max: -4.0 56.8819\n",
      "Normalized min/max: 0.0 1.0\n"
     ]
    }
   ],
   "source": [
    "# Load data (shape e.g. (487, 48))\n",
    "humidities = np.loadtxt(\"intel_lab/humidity.txt\")\n",
    "\n",
    "# Compute global min and max\n",
    "h_min = np.min(humidities)\n",
    "h_max = np.max(humidities)\n",
    "\n",
    "# Apply min-max normalization to map values into [0,1]\n",
    "normalized_humidities = (humidities - h_min) / (h_max - h_min)\n",
    "\n",
    "print(\"Original min/max:\", h_min, h_max)\n",
    "print(\"Normalized min/max:\", \n",
    "      normalized_humidities.min(), \n",
    "      normalized_humidities.max())\n"
   ]
  },
  {
   "cell_type": "code",
   "execution_count": null,
   "metadata": {},
   "outputs": [],
   "source": []
  }
 ],
 "metadata": {
  "kernelspec": {
   "display_name": "mlds",
   "language": "python",
   "name": "python3"
  },
  "language_info": {
   "codemirror_mode": {
    "name": "ipython",
    "version": 3
   },
   "file_extension": ".py",
   "mimetype": "text/x-python",
   "name": "python",
   "nbconvert_exporter": "python",
   "pygments_lexer": "ipython3",
   "version": "3.12.8"
  }
 },
 "nbformat": 4,
 "nbformat_minor": 2
}
