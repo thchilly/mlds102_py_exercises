{
 "cells": [
  {
   "cell_type": "markdown",
   "metadata": {},
   "source": [
    "## NumPy\n",
    "\n",
    "Load voltage.txt in an array and compute the number of distinct voltage values over disjoint windows of 50 epochs. Store the number of distinct values in a new array and print it."
   ]
  },
  {
   "cell_type": "code",
   "execution_count": 1,
   "metadata": {},
   "outputs": [],
   "source": [
    "import numpy as np"
   ]
  },
  {
   "cell_type": "code",
   "execution_count": 2,
   "metadata": {},
   "outputs": [
    {
     "name": "stdout",
     "output_type": "stream",
     "text": [
      "Number of distinct voltage values in each window of 50 epochs:\n",
      "[72 38 36 28 30 23 27 29 30 29]\n"
     ]
    }
   ],
   "source": [
    "# Load the data\n",
    "data = np.loadtxt(\"intel_lab/voltage.txt\", delimiter=\"\\t\")  # shape (487, 48)\n",
    "\n",
    "rows, cols = data.shape\n",
    "window_size = 50\n",
    "\n",
    "# Iterate over disjoint windows of 50 rows\n",
    "distinct_counts = []\n",
    "\n",
    "for start in range(0, rows, window_size):\n",
    "    end = start + window_size\n",
    "    if end > rows:\n",
    "        end = rows  # Handle remainiing bit if it is less than 50\n",
    "\n",
    "    # Extract window of rows\n",
    "    window = data[start:end, :] \n",
    "\n",
    "    # Flatten the window and find unique values\n",
    "    flattened = window.ravel()\n",
    "    unique_vals = np.unique(flattened)\n",
    "    distinct_counts.append(len(unique_vals))\n",
    "\n",
    "# Print the results\n",
    "distinct_counts = np.array(distinct_counts)\n",
    "print(\"Number of distinct voltage values in each window of 50 epochs:\")\n",
    "print(distinct_counts)"
   ]
  }
 ],
 "metadata": {
  "kernelspec": {
   "display_name": "mlds",
   "language": "python",
   "name": "python3"
  },
  "language_info": {
   "codemirror_mode": {
    "name": "ipython",
    "version": 3
   },
   "file_extension": ".py",
   "mimetype": "text/x-python",
   "name": "python",
   "nbconvert_exporter": "python",
   "pygments_lexer": "ipython3",
   "version": "3.12.8"
  }
 },
 "nbformat": 4,
 "nbformat_minor": 2
}
