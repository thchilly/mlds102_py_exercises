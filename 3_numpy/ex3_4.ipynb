{
 "cells": [
  {
   "cell_type": "markdown",
   "metadata": {},
   "source": [
    "## NumPy\n",
    "\n",
    "Repeat Excercise 3 only this time, use an [FM Sketch](https://en.wikipedia.org/wiki/Flajolet%E2%80%93Martin_algorithm) to estimate the number of distinct values."
   ]
  },
  {
   "cell_type": "code",
   "execution_count": 1,
   "metadata": {},
   "outputs": [],
   "source": [
    "import numpy as np"
   ]
  },
  {
   "cell_type": "code",
   "execution_count": 2,
   "metadata": {},
   "outputs": [],
   "source": [
    "def trailing_zero_bits(n: int) -> int:\n",
    "    \"\"\"Return the number of trailing 0 bits in the binary representation of n.\"\"\"\n",
    "    if n == 0: #return zeros if n is zero\n",
    "        return 32\n",
    "    # Count how many times n & 1 == 0, then shift right.\n",
    "    tz = 0\n",
    "    while (n & 1) == 0:\n",
    "        tz += 1\n",
    "        n >>= 1\n",
    "    return tz\n",
    "\n",
    "def fm_estimate(elements):\n",
    "    \"\"\"\n",
    "    Single-hash Flajolet–Martin estimate for the number of distinct elements.\n",
    "    \n",
    "    elements: 1D array of arbitrary items\n",
    "    returns a float (the estimated count of distinct elements).\n",
    "    \"\"\"\n",
    "    R = 0  # track maximum number of trailing zeros\n",
    "    for x in elements:\n",
    "        # Convert the value x into a hash. \n",
    "        h = hash(x)\n",
    "        \n",
    "        # Compute trailing zeros in the hash\n",
    "        tz = trailing_zero_bits(h)\n",
    "        \n",
    "        # Update R\n",
    "        if tz > R:\n",
    "            R = tz\n",
    "    \n",
    "    # Return the FM estimate\n",
    "    return 2.0 ** (R + 1)\n"
   ]
  },
  {
   "cell_type": "code",
   "execution_count": 3,
   "metadata": {},
   "outputs": [
    {
     "name": "stdout",
     "output_type": "stream",
     "text": [
      "FM Sketch estimates of distinct voltage values in each window of 50 epochs:\n",
      "Window #1: Estimated distinct count = 8589934592.00\n",
      "Window #2: Estimated distinct count = 8589934592.00\n",
      "Window #3: Estimated distinct count = 8589934592.00\n",
      "Window #4: Estimated distinct count = 8589934592.00\n",
      "Window #5: Estimated distinct count = 4.00\n",
      "Window #6: Estimated distinct count = 4.00\n",
      "Window #7: Estimated distinct count = 4.00\n",
      "Window #8: Estimated distinct count = 4.00\n",
      "Window #9: Estimated distinct count = 4.00\n",
      "Window #10: Estimated distinct count = 4.00\n"
     ]
    }
   ],
   "source": [
    "def fm_sketch_per_window(filepath=\"intel_lab/voltage.txt\", window_size=50):\n",
    "    # Load data\n",
    "    data = np.loadtxt(filepath)  # shape (487, 48)\n",
    "    rows, cols = data.shape\n",
    "    \n",
    "    estimates = []  # store the FM estimate in each window\n",
    "    \n",
    "    # Iterate over disjoint windows\n",
    "    for start in range(0, rows, window_size):\n",
    "        end = start + window_size\n",
    "        if end > rows:\n",
    "            end = rows  # handle last partial window if any\n",
    "        \n",
    "        # Extract window\n",
    "        window = data[start:end, :]  # shape (<=50, 48)\n",
    "        \n",
    "        # Flatten to 1D\n",
    "        flattened = window.ravel()\n",
    "        \n",
    "        # Apply FM sketch\n",
    "        est = fm_estimate(flattened)\n",
    "        \n",
    "        estimates.append(est)\n",
    "    \n",
    "    return np.array(estimates)\n",
    "\n",
    "# Run the code\n",
    "estimates_array = fm_sketch_per_window(\"intel_lab/voltage.txt\", window_size=50)\n",
    "\n",
    "print(\"FM Sketch estimates of distinct voltage values in each window of 50 epochs:\")\n",
    "for i, est in enumerate(estimates_array, start=1):\n",
    "    print(f\"Window #{i}: Estimated distinct count = {est:.2f}\")\n"
   ]
  }
 ],
 "metadata": {
  "kernelspec": {
   "display_name": "mlds",
   "language": "python",
   "name": "python3"
  },
  "language_info": {
   "codemirror_mode": {
    "name": "ipython",
    "version": 3
   },
   "file_extension": ".py",
   "mimetype": "text/x-python",
   "name": "python",
   "nbconvert_exporter": "python",
   "pygments_lexer": "ipython3",
   "version": "3.12.8"
  }
 },
 "nbformat": 4,
 "nbformat_minor": 2
}
