{
 "cells": [
  {
   "cell_type": "markdown",
   "metadata": {},
   "source": [
    "## SciPy\n",
    "\n",
    "Convert the all_lights matrix to a sparse one by centering its observations in a way that maximizes the number of zero elements. Repeat Exercise 2 above, using the sparse matrix utilities of SciPy."
   ]
  },
  {
   "cell_type": "code",
   "execution_count": 1,
   "metadata": {},
   "outputs": [],
   "source": [
    "import numpy as np\n",
    "import scipy.stats as st\n",
    "import matplotlib.pyplot as plt"
   ]
  },
  {
   "cell_type": "code",
   "execution_count": 2,
   "metadata": {},
   "outputs": [
    {
     "name": "stdout",
     "output_type": "stream",
     "text": [
      "Original #non-zeros: 22202\n",
      "Original #zeros: 1174\n"
     ]
    }
   ],
   "source": [
    "# Load light data\n",
    "all_light = np.loadtxt('intel_lab/light.txt')\n",
    "all_light.shape\n",
    "\n",
    "print(\"Original #non-zeros:\", np.count_nonzero(all_light))\n",
    "print(\"Original #zeros:\", all_light.size - np.count_nonzero(all_light))"
   ]
  },
  {
   "cell_type": "code",
   "execution_count": 3,
   "metadata": {},
   "outputs": [
    {
     "name": "stdout",
     "output_type": "stream",
     "text": [
      "After row-mode centering: zeros=2309, nonzeros=21067\n",
      "After column-mode centering: zeros=17088, nonzeros=6288\n",
      "Column-mode centering yields more zeros. Returning column-centered matrix.\n"
     ]
    }
   ],
   "source": [
    "def center_by_mode(matrix, axis=0):\n",
    "    \"\"\"\n",
    "    Subtract the mode value along `axis` of the matrix.\n",
    "    axis=0 => column-wise mode, subtract each column's mode from that column.\n",
    "    axis=1 => row-wise mode, subtract each row's mode from that row.\n",
    "    \"\"\"\n",
    "    centered = matrix.copy()\n",
    "    if axis == 0:\n",
    "        # Column-wise\n",
    "        n_cols = centered.shape[1]\n",
    "        for j in range(n_cols):\n",
    "            col = centered[:, j]\n",
    "            mode_res = st.mode(col, keepdims=True)\n",
    "            mode_val = mode_res.mode[0]\n",
    "            col -= mode_val\n",
    "    elif axis == 1:\n",
    "        # Row-wise\n",
    "        n_rows = centered.shape[0]\n",
    "        for i in range(n_rows):\n",
    "            row = centered[i, :]\n",
    "            mode_res = st.mode(row, keepdims=True)\n",
    "            mode_val = mode_res.mode[0]\n",
    "            row -= mode_val\n",
    "    return centered\n",
    "\n",
    "def center_maximize_zeros(matrix):\n",
    "    \"\"\"\n",
    "    1) Center by row-mode => count zeros\n",
    "    2) Center by column-mode => count zeros\n",
    "    4) Return whichever yields more zeros\n",
    "    \"\"\"\n",
    "    # Row-mode\n",
    "    centered_row = center_by_mode(matrix, axis=1)\n",
    "    nonzeros_row = np.count_nonzero(centered_row)\n",
    "    zeros_row = matrix.size - nonzeros_row\n",
    "    \n",
    "    # Column-mode\n",
    "    centered_col = center_by_mode(matrix, axis=0)\n",
    "    nonzeros_col = np.count_nonzero(centered_col)\n",
    "    zeros_col = matrix.size - nonzeros_col\n",
    "\n",
    "    # Print summary\n",
    "    print(f\"After row-mode centering: zeros={zeros_row}, nonzeros={nonzeros_row}\")\n",
    "    print(f\"After column-mode centering: zeros={zeros_col}, nonzeros={nonzeros_col}\")\n",
    "\n",
    "    # Choose whichever yields more zeros\n",
    "    if zeros_row >= zeros_col:\n",
    "        print(\"Row-mode centering yields more (or equal) zeros. Returning row-centered matrix.\")\n",
    "        return centered_row\n",
    "    else:\n",
    "        print(\"Column-mode centering yields more zeros. Returning column-centered matrix.\")\n",
    "        return centered_col\n",
    "\n",
    "# best centered matrix\n",
    "best_centered = center_maximize_zeros(all_light)"
   ]
  },
  {
   "cell_type": "code",
   "execution_count": 5,
   "metadata": {},
   "outputs": [
    {
     "name": "stdout",
     "output_type": "stream",
     "text": [
      "<Compressed Sparse Row sparse matrix of dtype 'float64'\n",
      "\twith 6288 stored elements and shape (487, 48)>\n",
      "  Coords\tValues\n",
      "  (0, 0)\t-43.24\n",
      "  (0, 1)\t-121.44\n",
      "  (0, 2)\t-48.76\n",
      "  (0, 3)\t-97.52\n",
      "  (0, 5)\t-114.08\n",
      "  (0, 6)\t-97.52\n",
      "  (0, 7)\t-108.56\n",
      "  (0, 8)\t-104.88\n",
      "  (0, 9)\t-53.36\n",
      "  (0, 10)\t476.09999999999997\n",
      "  (0, 11)\t39.1\n",
      "  (0, 12)\t-1.38\n",
      "  (0, 13)\t-0.46\n",
      "  (0, 14)\t-1.84\n",
      "  (0, 15)\t-1.38\n",
      "  (0, 16)\t-7.36\n",
      "  (0, 17)\t-2.76\n",
      "  (0, 18)\t39.56\n",
      "  (0, 19)\t-150.88\n",
      "  (0, 20)\t-67.16\n",
      "  (0, 21)\t-79.12\n",
      "  (0, 22)\t-224.48\n",
      "  (0, 23)\t-136.16\n",
      "  (0, 24)\t-101.2\n",
      "  (0, 25)\t-114.08\n",
      "  :\t:\n",
      "  (485, 38)\t-7.360000000000014\n",
      "  (485, 39)\t-7.360000000000014\n",
      "  (485, 41)\t-14.71999999999997\n",
      "  (485, 42)\t-14.720000000000027\n",
      "  (485, 43)\t-3.6799999999999926\n",
      "  (485, 45)\t-5.519999999999996\n",
      "  (485, 46)\t-29.43999999999994\n",
      "  (485, 47)\t-5.519999999999996\n",
      "  (486, 5)\t-5.519999999999996\n",
      "  (486, 8)\t-3.6799999999999926\n",
      "  (486, 14)\t-0.4600000000000002\n",
      "  (486, 21)\t-3.680000000000007\n",
      "  (486, 22)\t-7.359999999999985\n",
      "  (486, 29)\t-3.680000000000007\n",
      "  (486, 31)\t-5.519999999999996\n",
      "  (486, 32)\t-3.680000000000007\n",
      "  (486, 36)\t-7.359999999999985\n",
      "  (486, 38)\t-7.360000000000014\n",
      "  (486, 39)\t-7.360000000000014\n",
      "  (486, 41)\t-14.71999999999997\n",
      "  (486, 42)\t-14.720000000000027\n",
      "  (486, 43)\t-3.6799999999999926\n",
      "  (486, 45)\t-5.519999999999996\n",
      "  (486, 46)\t-29.43999999999994\n",
      "  (486, 47)\t-5.519999999999996\n",
      "Non-zero entries in sparse matrix: 6288\n"
     ]
    }
   ],
   "source": [
    "from scipy.sparse import csr_matrix\n",
    "\n",
    "light_sparse = csr_matrix(best_centered)\n",
    "\n",
    "print(light_sparse)\n",
    "# <487x48 sparse matrix of type '<class 'numpy.float64'>' \n",
    "# with NNZ stored elements in Compressed Sparse Row format>\n",
    "\n",
    "# non-zero stored elements\n",
    "nnz = light_sparse.nnz\n",
    "print(\"Non-zero entries in sparse matrix:\", nnz)\n"
   ]
  },
  {
   "cell_type": "code",
   "execution_count": 6,
   "metadata": {},
   "outputs": [
    {
     "name": "stdout",
     "output_type": "stream",
     "text": [
      "(54, 3)\n",
      "Neighbors of mote 37: [39, 35, 36, 38]\n"
     ]
    }
   ],
   "source": [
    "# Find neighbors of mote 37\n",
    "\n",
    "locs = np.loadtxt('intel_lab/mote_locs.txt')  # shape (54,3)\n",
    "print(locs.shape)\n",
    "\n",
    "row_37 = locs[ locs[:, 0] == 37 ]\n",
    "mote37_id, mote37_x, mote37_y = row_37[0]\n",
    "\n",
    "distances = []\n",
    "for row in locs:\n",
    "    mote_id, x, y = row\n",
    "    if mote_id == 37:\n",
    "        continue\n",
    "    dist = np.linalg.norm([mote37_x - x, mote37_y - y])\n",
    "    distances.append((dist, int(mote_id)))\n",
    "\n",
    "distances.sort(key=lambda d: d[0])\n",
    "neighbors_4 = distances[:4]\n",
    "neighbor_ids = [nb[1] for nb in neighbors_4]\n",
    "print(\"Neighbors of mote 37:\", neighbor_ids)\n",
    "\n",
    "motes_of_interest = [37] + neighbor_ids"
   ]
  },
  {
   "cell_type": "code",
   "execution_count": null,
   "metadata": {},
   "outputs": [
    {
     "data": {
      "image/png": "[encoded data removed]",
      "text/plain": [
       "<Figure size 1000x500 with 1 Axes>"
      ]
     },
     "metadata": {},
     "output_type": "display_data"
    }
   ],
   "source": [
    "def extract_mote_timeseries(sparse_mat, mote_id):\n",
    "    \"\"\"\n",
    "    Return a dense 1D array of the entire time series for 'mote_id'.\n",
    "    \"\"\"\n",
    "    col_index = mote_id - 1\n",
    "    # slice => shape (487, 1) as a sub-sparse matrix\n",
    "    sub_col = sparse_mat[:, col_index]\n",
    "    # Convert to dense\n",
    "    arr = sub_col.toarray().ravel()   # shape (487,)\n",
    "    return arr\n",
    "\n",
    "# Gather the time series for the 5 motes\n",
    "light_arrays = []\n",
    "for mid in motes_of_interest:\n",
    "    arr = extract_mote_timeseries(light_sparse, mid)\n",
    "    light_arrays.append(arr)\n",
    "\n",
    "# Optionally, plot them:\n",
    "plt.figure(figsize=(10, 5))\n",
    "for i, arr in enumerate(light_arrays):\n",
    "    label = f\"Mote {motes_of_interest[i]}\"\n",
    "    if i == 0:\n",
    "        plt.plot(arr, label=label, color='black', linewidth=2, linestyle='dashed')\n",
    "    else:\n",
    "        plt.plot(arr, label=label)\n",
    "plt.legend()\n",
    "plt.xlabel('Epoch')\n",
    "plt.ylabel('Centered Light')\n",
    "plt.title('Centered Light values of mote 37 + neighbors (sparse-based)')\n",
    "plt.show()\n"
   ]
  },
  {
   "cell_type": "code",
   "execution_count": null,
   "metadata": {},
   "outputs": [
    {
     "name": "stdout",
     "output_type": "stream",
     "text": [
      "Mote 37 | Shapiro p = 6.85e-37\n",
      "Mote 39 | Shapiro p = 7.7e-40\n",
      "Mote 35 | Shapiro p = 1.02e-41\n",
      "Mote 36 | Shapiro p = 8.87e-42\n",
      "Mote 38 | Shapiro p = 2.39e-42\n",
      "ANOVA p-value: 5.689093729603908e-11\n",
      "Kruskal–Wallis p-value: 2.9881185977664943e-109\n"
     ]
    }
   ],
   "source": [
    "# 4.1. Shapiro–Wilk for normality\n",
    "for i, arr in enumerate(light_arrays):\n",
    "    stat, p = st.shapiro(arr)\n",
    "    print(f\"Mote {motes_of_interest[i]} | Shapiro p = {p:.3g}\")\n",
    "\n",
    "# 4.2. ANOVA\n",
    "stat_f, p_f = st.f_oneway(*light_arrays)\n",
    "print(\"ANOVA p-value:\", p_f)\n",
    "\n",
    "# 4.3. Kruskal–Wallis\n",
    "stat_kw, p_kw = st.kruskal(*light_arrays)\n",
    "print(\"Kruskal–Wallis p-value:\", p_kw)\n",
    "\n",
    "# The raw light measurements of mote 37 and its four nearest neighbors\n",
    "# do not share the same distribution. (p < 1e-100) that at least one mote\n",
    "# differs significantly from the others.\n"
   ]
  },
  {
   "cell_type": "code",
   "execution_count": null,
   "metadata": {},
   "outputs": [
    {
     "name": "stdout",
     "output_type": "stream",
     "text": [
      "Mote 37, DFT-based summary, Shapiro p=1.8e-06\n",
      "Mote 39, DFT-based summary, Shapiro p=4.25e-07\n",
      "Mote 35, DFT-based summary, Shapiro p=1e-07\n",
      "Mote 36, DFT-based summary, Shapiro p=4.85e-07\n",
      "Mote 38, DFT-based summary, Shapiro p=1.37e-07\n",
      "ANOVA p-value (DFT-based): 0.6442588035202859\n",
      "Kruskal–Wallis p-value (DFT-based): 0.016417876768938917\n"
     ]
    }
   ],
   "source": [
    "import scipy.fft as spfft\n",
    "\n",
    "def segment_fft_summaries(arr, n_segments=10, top_k=10):\n",
    "    seg_len = len(arr) // n_segments\n",
    "    summaries = []\n",
    "    start = 0\n",
    "    for i in range(n_segments):\n",
    "        end = start + seg_len\n",
    "        if i == n_segments - 1:\n",
    "            end = len(arr)\n",
    "        segment = arr[start:end]\n",
    "        start = end\n",
    "\n",
    "        dft_vals = spfft.rfft(segment)\n",
    "        magnitudes = np.abs(dft_vals)\n",
    "        top_mags = np.sort(magnitudes)[-top_k:]\n",
    "        summary = np.sum(top_mags)\n",
    "        summaries.append(summary)\n",
    "    return np.array(summaries)\n",
    "\n",
    "# Build the summary arrays\n",
    "all_mote_summaries = []\n",
    "for arr in light_arrays:\n",
    "    summaries = segment_fft_summaries(arr, n_segments=10, top_k=10)\n",
    "    all_mote_summaries.append(summaries)\n",
    "\n",
    "# Check normality\n",
    "for i, sums_ in enumerate(all_mote_summaries):\n",
    "    stat, p = st.shapiro(sums_)\n",
    "    print(f\"Mote {motes_of_interest[i]}, DFT-based summary, Shapiro p={p:.3g}\")\n",
    "\n",
    "# ANOVA\n",
    "stat_anova, p_anova = st.f_oneway(*all_mote_summaries)\n",
    "print(\"ANOVA p-value (DFT-based):\", p_anova)\n",
    "\n",
    "# Kruskal–Wallis\n",
    "stat_kruskal, p_kruskal = st.kruskal(*all_mote_summaries)\n",
    "print(\"Kruskal–Wallis p-value (DFT-based):\", p_kruskal)\n",
    "\n",
    "\n",
    "#Even in the frequency domain (with top‐k amplitude summaries), the data also appear non‐normal, \n",
    "# so Kruskal–Wallis is the more appropriate test. Here, p=0.016 means we still reject the null\n",
    "# of “all motes have identical distributions” (though less dramatically than in the raw data).\n"
   ]
  }
 ],
 "metadata": {
  "kernelspec": {
   "display_name": "mlds",
   "language": "python",
   "name": "python3"
  },
  "language_info": {
   "codemirror_mode": {
    "name": "ipython",
    "version": 3
   },
   "file_extension": ".py",
   "mimetype": "text/x-python",
   "name": "python",
   "nbconvert_exporter": "python",
   "pygments_lexer": "ipython3",
   "version": "3.12.8"
  }
 },
 "nbformat": 4,
 "nbformat_minor": 2
}
