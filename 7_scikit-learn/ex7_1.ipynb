{
 "cells": [
  {
   "cell_type": "markdown",
   "metadata": {},
   "source": [
    "## Scikit-learn\n",
    "\n",
    "Iteratively perform KMeans clustering cycles in non-overlapping windows of 10 epochs with the aim of finding outlier (noisy) motes."
   ]
  },
  {
   "cell_type": "code",
   "execution_count": 3,
   "metadata": {},
   "outputs": [
    {
     "name": "stdout",
     "output_type": "stream",
     "text": [
      "Temperatures shape: (487, 48)\n",
      "Humidities shape:   (487, 48)\n",
      "Lights shape:       (487, 48)\n",
      "Voltages shape:     (487, 48)\n"
     ]
    }
   ],
   "source": [
    "import numpy as np\n",
    "from sklearn.cluster import KMeans\n",
    "from collections import defaultdict\n",
    "\n",
    "all_temperatures = np.genfromtxt(\"mote_data/temp.csv\",\n",
    "                                 delimiter='\\t', skip_header=0)\n",
    "all_temperatures = all_temperatures[:487, :]  # ensure shape (487, 48)\n",
    "\n",
    "all_humidities = np.loadtxt(\"mote_data/humidity.txt\", delimiter='\\t')  # shape (487, 48)\n",
    "all_lights     = np.loadtxt(\"mote_data/light.txt\",    delimiter='\\t')  # shape (487, 48)\n",
    "all_voltages   = np.loadtxt(\"mote_data/voltage.txt\",  delimiter='\\t')  # shape (487, 48)\n",
    "\n",
    "print(\"Temperatures shape:\", all_temperatures.shape)\n",
    "print(\"Humidities shape:  \", all_humidities.shape)\n",
    "print(\"Lights shape:      \", all_lights.shape)\n",
    "print(\"Voltages shape:    \", all_voltages.shape)\n",
    "# Each variable has shape (487, 48) [epoch, mote]"
   ]
  },
  {
   "cell_type": "code",
   "execution_count": 4,
   "metadata": {},
   "outputs": [
    {
     "name": "stdout",
     "output_type": "stream",
     "text": [
      "Detected outliers in each 10-epoch window:\n",
      "Window 010-019: motes outliers = [15]\n",
      "Window 020-029: motes outliers = [15]\n",
      "Window 030-039: motes outliers = [14]\n",
      "Window 080-089: motes outliers = [30]\n",
      "Window 100-109: motes outliers = [30]\n",
      "Window 120-129: motes outliers = [14]\n",
      "Window 130-139: motes outliers = [14]\n",
      "Window 180-189: motes outliers = [30]\n",
      "Window 190-199: motes outliers = [14]\n",
      "Window 210-219: motes outliers = [14]\n",
      "Window 240-249: motes outliers = [14]\n",
      "Window 250-259: motes outliers = [14]\n",
      "Window 260-269: motes outliers = [14]\n",
      "Window 290-299: motes outliers = [14]\n"
     ]
    }
   ],
   "source": [
    "WINDOW_SIZE = 10\n",
    "K = 3 \n",
    "OUTLIER_CLUSTER_SIZE = 2\n",
    "\n",
    "\n",
    "# key = window_index (starting epoch)\n",
    "# value = list of mote indices that are outliers in that window\n",
    "outliers_by_window = defaultdict(list)\n",
    "\n",
    "num_epochs = all_temperatures.shape[0]  # 487\n",
    "num_motes = all_temperatures.shape[1]   # 48\n",
    "\n",
    "window_index = 0\n",
    "\n",
    "for start in range(0, num_epochs, WINDOW_SIZE):\n",
    "    end = start + WINDOW_SIZE\n",
    "    if end > num_epochs:\n",
    "        break  # only full windows - full 10 epochs\n",
    "\n",
    "    window_temp  = all_temperatures[start:end, :] \n",
    "    window_humid = all_humidities[start:end, :]\n",
    "    window_light = all_lights[start:end, :]\n",
    "    window_volt  = all_voltages[start:end, :]\n",
    "\n",
    "    temp_t  = window_temp.T   # shape (48, 10)\n",
    "    humid_t = window_humid.T  # shape (48, 10)\n",
    "    light_t = window_light.T  # shape (48, 10)\n",
    "    volt_t  = window_volt.T   # shape (48, 10)\n",
    "\n",
    "    window_features = np.hstack([temp_t, humid_t, light_t, volt_t])\n",
    "\n",
    "    # apply KMeans\n",
    "    clustering = KMeans(n_clusters=K, random_state=13)\n",
    "    clustering.fit(window_features)\n",
    "\n",
    "    labels = clustering.labels_ \n",
    "\n",
    "    # Identify clusters of size <= OUTLIER_CLUSTER_SIZE\n",
    "    cluster_counts = np.bincount(labels)  #cluster_counts[0] = number of motes in cluster 0\n",
    "\n",
    "    # cluster with small count (1,2), we consider those motes outliers\n",
    "    for cluster_id in range(K):\n",
    "        if cluster_counts[cluster_id] <= OUTLIER_CLUSTER_SIZE:\n",
    "            # find which motes belong to cluster_id\n",
    "            outlier_motes = np.where(labels == cluster_id)[0]\n",
    "            outliers_by_window[start].extend(outlier_motes.tolist())\n",
    "\n",
    "    window_index += 1\n",
    "\n",
    "print(\"Detected outliers in each 10-epoch window:\")\n",
    "for wstart, outlier_list in outliers_by_window.items():\n",
    "    print(f\"Window {wstart:03d}-{wstart+WINDOW_SIZE-1:03d}: motes outliers = {outlier_list}\")"
   ]
  }
 ],
 "metadata": {
  "kernelspec": {
   "display_name": "mlds",
   "language": "python",
   "name": "python3"
  },
  "language_info": {
   "codemirror_mode": {
    "name": "ipython",
    "version": 3
   },
   "file_extension": ".py",
   "mimetype": "text/x-python",
   "name": "python",
   "nbconvert_exporter": "python",
   "pygments_lexer": "ipython3",
   "version": "3.12.8"
  }
 },
 "nbformat": 4,
 "nbformat_minor": 2
}
